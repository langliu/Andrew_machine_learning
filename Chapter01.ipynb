{
 "cells" : [
  {
   "cell_type" : "markdown",
   "metadata" : {
    "pycharm" : {
     "name" : "#%% md\n"
    }
   },
   "source" : [
    "# 章节一：初识机器学习"
   ]
  },
  {
   "cell_type" : "markdown",
   "metadata" : { },
   "source" : [
    "## 什么是机器学习？\n",
    "\n",
    "### 定义\n",
    "\n",
    "- Arthur Samuel（1957）：在没有明确设置的情况下使计算机具有学习能力的研究领域。\n",
    "- Tom Mitchell（1998）：一个适当的学习问题定义如下：计算机程序从经验E中学习解决某一任务T进行某一性能度量P，通过P测定在T上的表现因经验E而提高。\n",
    "\n",
    "### 目标\n",
    "\n",
    "人工智能\n",
    "\n",
    "### 应用\n",
    "\n",
    "- 数据挖掘\n",
    "- 人类无法手动编写的程序\n",
    "    - 自动驾驶\n",
    "    - NLP\n",
    "    - CV\n",
    "- 私人定制程序（推荐系统）\n",
    "- 理解人类学习过程\n",
    "\n",
    "### 机器学习算法\n",
    "\n",
    "- 监督学习（Supervised learning）\n",
    "- 无监督学习（Unsupervised learning）\n",
    "\n",
    "#### 其他\n",
    "\n",
    "- 强化学习（Reinforcement learning）\n",
    "- 推荐系统（Recommender system）\n",
    "\n",
    "### 机器学习步骤\n",
    "\n",
    "1. 设置一组function\n",
    "2. 衡量一个function好或者不好\n",
    "3. 找出最好的一个function"
   ]
  },
  {
   "cell_type" : "markdown",
   "metadata" : { },
   "source" : [
    "## 监督学习（Supervised learning）\n",
    "\n",
    "### 定义\n",
    "\n",
    "我们给算法一个数据集，其中包含了正确答案\n",
    "\n",
    "监督机器学习问题主要有两种，分别叫作分类（classification）与回归（regression）。\n",
    "\n",
    "### 回归问题\n",
    "\n",
    "假设你想要预测房价，你收集了一些房屋面积和已售出的售价，你就可以根据这些已有的数据来预测一个房屋的预售价格。\n",
    "\n",
    "![housing_price_prediction](http://andrew-machine-learning.oss-cn-hangzhou.aliyuncs.com/housing_price_prediction.png)\n",
    "\n",
    "### 分类问题\n",
    "\n",
    "肿瘤检测，你收集了一些患者的数据，可以根据这些数据判断新的患者的肿瘤是良性还是恶性。\n",
    "\n",
    "![breast_cancer](http://andrew-machine-learning.oss-cn-hangzhou.aliyuncs.com/breast_cancer.png)\n",
    "\n",
    "![breast_cancer](http://andrew-machine-learning.oss-cn-hangzhou.aliyuncs.com/breast_cancer(age,%20tumor_size).png)"
   ]
  },
  {
   "cell_type" : "markdown",
   "metadata" : {
    "pycharm" : {
     "name" : "#%% md\n"
    }
   },
   "source" : [
    "## 无监督学习（Unsupervised learning）\n",
    "\n",
    "### 定义\n",
    "\n",
    "无监督学习包括没有已知输出、没有老师指导学习算法的各种机器学习。在无监督学习中，学习算法只有输入数据，并需要从这些数据中提取知识。\n",
    "\n",
    "无监督学习主要有两种：数据集变换与聚类\n",
    "\n",
    "### 无监督变换\n",
    "\n",
    "数据集的无监督变换（unsupervised transformation）是创建数据新的表示的算法，与数据的原始表示相比，新的表示可能更容易被人或其他机器学习算法所理解。\n",
    "\n",
    "### 聚类算法\n",
    "\n",
    "聚类算法（clustering algorithm）将数据划分成不同的组，每组包含相似的物项。思考向社交媒体网站上传照片的例子。\n"
   ]
  }
 ],
 "metadata" : {
  "kernelspec" : {
   "display_name" : "Python 3",
   "language" : "python",
   "name" : "python3"
  },
  "language_info" : {
   "codemirror_mode" : {
    "name" : "ipython",
    "version" : 3
   },
   "file_extension" : ".py",
   "mimetype" : "text/x-python",
   "name" : "python",
   "nbconvert_exporter" : "python",
   "pygments_lexer" : "ipython3",
   "version" : "3.7.6"
  },
  "pycharm" : {
   "stem_cell" : {
    "cell_type" : "raw",
    "source" : [ ],
    "metadata" : {
     "collapsed" : false
    }
   }
  }
 },
 "nbformat" : 4,
 "nbformat_minor" : 4
}