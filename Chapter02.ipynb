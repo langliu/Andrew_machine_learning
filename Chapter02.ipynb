{
 "cells" : [
  {
   "cell_type" : "markdown",
   "metadata" : {
    "collapsed" : true,
    "pycharm" : {
     "name" : "#%% md\n"
    }
   },
   "source" : [
    "# 章节二：单变量线性回归"
   ]
  },
  {
   "cell_type" : "markdown",
   "source" : [
    "## 模型描述\n",
    "\n",
    "- 假设函数：h\n",
    "- 房子大小：x\n",
    "- 房子售价：y\n",
    "\n",
    "我们需要找到一个假设函数h来通过房子的面积大小作为输入，判断该房屋的售价。\n",
    "\n",
    "$ h_\\theta(x) = \\theta_0 + \\theta_1*x $\n",
    "\n",
    "![](http://andrew-machine-learning.oss-cn-hangzhou.aliyuncs.com/represent_h.png)"
   ],
   "metadata" : {
    "collapsed" : false
   }
  },
  {
   "cell_type" : "markdown",
   "source" : [
    "## 代价函数（Cost function）\n",
    "\n",
    "![](http://andrew-machine-learning.oss-cn-hangzhou.aliyuncs.com/20200225213013.png)\n",
    "\n",
    "![](http://andrew-machine-learning.oss-cn-hangzhou.aliyuncs.com/cost_function.png)\n",
    "\n",
    "![](http://andrew-machine-learning.oss-cn-hangzhou.aliyuncs.com/20200225224046.png)\n",
    "\n",
    "$ J(\\theta_0, \\theta_1) = \\frac{1}{2m} \\sum_{i=1}^m (h_\\theta(x^{(i)})-y^{(i)})^2 $"
   ],
   "metadata" : {
    "collapsed" : false,
    "pycharm" : {
     "name" : "#%% md\n"
    }
   }
  },
  {
   "cell_type" : "markdown",
   "source" : [
    "## 梯度下降（Gradient descent）\n",
    "\n",
    "梯度下降不仅被用在线性回归上，还被广泛应用于机器学习的众多领域。\n",
    "\n",
    "$ \\theta_j := \\theta_j - \\alpha \\frac{\\partial}{\\partial\\theta_j}J(\\theta_0, \\theta_1)$\n"
   ],
   "metadata" : {
    "collapsed" : false,
    "pycharm" : {
     "name" : "#%% md\n",
     "is_executing" : false
    }
   }
  },
  {
   "cell_type" : "code",
   "source" : [
    "import numpy as np\n",
    "\n",
    "A = np.array([[1, 2, 3, 4]])\n",
    "B = np.array([[4, 5, 6, 7]]).T\n",
    "print(A.T * B)"
   ],
   "metadata" : {
    "collapsed" : false,
    "pycharm" : {
     "name" : "#%%\n",
     "is_executing" : false
    }
   },
   "execution_count" : 1,
   "outputs" : [
    {
     "name" : "stdout",
     "text" : [
      "[[ 4]\n",
      " [10]\n",
      " [18]\n",
      " [28]]\n"
     ],
     "output_type" : "stream"
    }
   ]
  },
  {
   "cell_type" : "code",
   "execution_count" : 17,
   "outputs" : [
    {
     "name" : "stdout",
     "text" : [
      "21\n",
      "33\n"
     ],
     "output_type" : "stream"
    }
   ],
   "source" : [
    "u = np.array([1, 3])\n",
    "v = np.array([12, 3])\n",
    "print(np.dot(u, v))\n",
    "print(np.cross(v, u))"
   ],
   "metadata" : {
    "collapsed" : false,
    "pycharm" : {
     "name" : "#%%\n",
     "is_executing" : false
    }
   }
  },
  {
   "cell_type" : "code",
   "execution_count" : 20,
   "outputs" : [
    {
     "data" : {
      "text/plain" : "array([[ 50,  60],\n       [114, 140]])"
     },
     "metadata" : { },
     "output_type" : "execute_result",
     "execution_count" : 20
    }
   ],
   "source" : [
    "A = np.array([[1, 2], [3, 4], [5, 6], [7, 8]])\n",
    "B = np.array([[1, 2, 3, 4], [5, 6, 7, 8]])\n",
    "np.dot(B, A)"
   ],
   "metadata" : {
    "collapsed" : false,
    "pycharm" : {
     "name" : "#%%\n",
     "is_executing" : false
    }
   }
  },
  {
   "cell_type" : "code",
   "execution_count" : 2,
   "outputs" : [
    {
     "data" : {
      "text/plain" : "array([[  1.   , -17.5  ,  13.125],\n       [  0.   ,   0.5  ,  -0.375],\n       [  0.   ,   0.   ,   0.25 ]])"
     },
     "metadata" : { },
     "output_type" : "execute_result",
     "execution_count" : 2
    }
   ],
   "source" : [
    "from scipy import linalg\n",
    "\n",
    "A = np.array([[1, 35, 0], [0, 2, 3], [0, 0, 4]])\n",
    "B = linalg.inv(A)\n",
    "B"
   ],
   "metadata" : {
    "collapsed" : false,
    "pycharm" : {
     "name" : "#%%\n",
     "is_executing" : false
    }
   }
  },
  {
   "cell_type" : "code",
   "execution_count" : 3,
   "outputs" : [
    {
     "data" : {
      "text/plain" : "array([[1., 0., 0.],\n       [0., 1., 0.],\n       [0., 0., 1.]])"
     },
     "metadata" : { },
     "output_type" : "execute_result",
     "execution_count" : 3
    }
   ],
   "source" : [
    "np.dot(A, B)\n"
   ],
   "metadata" : {
    "collapsed" : false,
    "pycharm" : {
     "name" : "#%%\n",
     "is_executing" : false
    }
   }
  }
 ],
 "metadata" : {
  "kernelspec" : {
   "display_name" : "Python 3",
   "language" : "python",
   "name" : "python3"
  },
  "language_info" : {
   "codemirror_mode" : {
    "name" : "ipython",
    "version" : 2
   },
   "file_extension" : ".py",
   "mimetype" : "text/x-python",
   "name" : "python",
   "nbconvert_exporter" : "python",
   "pygments_lexer" : "ipython2",
   "version" : "2.7.6"
  },
  "pycharm" : {
   "stem_cell" : {
    "cell_type" : "raw",
    "source" : [ ],
    "metadata" : {
     "collapsed" : false
    }
   }
  }
 },
 "nbformat" : 4,
 "nbformat_minor" : 0
}