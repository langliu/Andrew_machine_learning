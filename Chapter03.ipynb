{
 "cells" : [
  {
   "cell_type" : "markdown",
   "metadata" : {
    "collapsed" : true,
    "pycharm" : {
     "name" : "#%% md\n"
    }
   },
   "source" : [
    "# 章节三：线性代数回顾"
   ]
  },
  {
   "cell_type" : "markdown",
   "source" : [
    "## 矩阵和向量"
   ],
   "metadata" : {
    "collapsed" : false
   }
  },
  {
   "cell_type" : "markdown",
   "source" : [
    "## 加法和标量乘法\n",
    "\n",
    "### 加法\n",
    "\n",
    "两个相同维数的矩阵相加就是将对应位置的矩阵元素相加\n",
    "\n",
    "$ \\begin{bmatrix}\n",
    "0 & 3 \\\\\n",
    " 3 & 0\n",
    " \\end{bmatrix} +\n",
    " \\begin{bmatrix}\n",
    "4 & 3 \\\\\n",
    " 2 & 5\n",
    " \\end{bmatrix} =\n",
    " \\begin{bmatrix}\n",
    "4 & 6 \\\\\n",
    " 5 & 5\n",
    " \\end{bmatrix}\n",
    "$\n",
    "\n",
    "### 标量乘法\n",
    "\n",
    "将矩阵中的袁术逐一与标量相乘\n",
    "\n",
    "$\n",
    "\\begin{bmatrix} 0 & 3 \\\\ 3 & 0 \\end{bmatrix}\n",
    "\\times 4 =\n",
    "\\begin{bmatrix} 0 & 12 \\\\ 15 & 0 \\end{bmatrix}\n",
    "$"
   ],
   "metadata" : {
    "collapsed" : false
   }
  },
  {
   "cell_type" : "code",
   "execution_count" : 2,
   "outputs" : [
    {
     "name" : "stdout",
     "text" : [
      "[[4 6]\n",
      " [5 5]]\n",
      "[[ 0 12]\n",
      " [12  0]]\n"
     ],
     "output_type" : "stream"
    }
   ],
   "source" : [
    "import numpy as np\n",
    "\n",
    "A1 = np.array([[0, 3], [3, 0]])\n",
    "B1 = np.array([[4, 3], [2, 5]])\n",
    "C = A1 + B1\n",
    "print(C)\n",
    "print(A1 * 4)"
   ],
   "metadata" : {
    "collapsed" : false,
    "pycharm" : {
     "name" : "#%%\n",
     "is_executing" : false
    }
   }
  },
  {
   "cell_type" : "markdown",
   "source" : [
    "## 矩阵向量乘法\n",
    "\n",
    "$\n",
    "\\begin{bmatrix} 1 & 2 & 1 & 5 \\\\ 0 & 3 & 0 & 4 \\\\ -1 & -2 & 0 & 0 \\end{bmatrix}\n",
    "\\times \\begin{bmatrix} 1 \\\\ 3 \\\\ 2 \\\\ 1 \\end{bmatrix} =\n",
    "\\begin{bmatrix} 14 \\\\ 13 \\\\ -7 \\end{bmatrix}\n",
    "$\n",
    "\n",
    "![](http://andrew-machine-learning.oss-cn-hangzhou.aliyuncs.com/20200301011813.png)"
   ],
   "metadata" : {
    "collapsed" : false
   }
  },
  {
   "cell_type" : "code",
   "execution_count" : 3,
   "outputs" : [
    {
     "data" : {
      "text/plain" : "array([[14],\n       [13],\n       [-7]])"
     },
     "metadata" : { },
     "output_type" : "execute_result",
     "execution_count" : 3
    }
   ],
   "source" : [
    "A = np.array([[1, 2, 1, 5], [0, 3, 0, 4], [-1, -2, 0, 0]])\n",
    "B = np.array([[1], [3], [2], [1]])\n",
    "np.dot(A, B)"
   ],
   "metadata" : {
    "collapsed" : false,
    "pycharm" : {
     "name" : "#%%\n",
     "is_executing" : false
    }
   }
  },
  {
   "cell_type" : "code",
   "execution_count" : 4,
   "outputs" : [
    {
     "data" : {
      "text/plain" : "array([[486. ],\n       [314. ],\n       [343.5],\n       [173. ]])"
     },
     "metadata" : { },
     "output_type" : "execute_result",
     "execution_count" : 4
    }
   ],
   "source" : [
    "A = np.array([[1, 2104], [1, 1416], [1, 1534], [1, 852]])\n",
    "B = np.array([[-40], [0.25]])\n",
    "np.dot(A, B)"
   ],
   "metadata" : {
    "collapsed" : false,
    "pycharm" : {
     "name" : "#%%\n",
     "is_executing" : false
    }
   }
  },
  {
   "cell_type" : "markdown",
   "source" : [
    "## 矩阵乘法\n",
    "\n",
    "![](http://andrew-machine-learning.oss-cn-hangzhou.aliyuncs.com/20200301113415.png)\n",
    "\n",
    "![](http://andrew-machine-learning.oss-cn-hangzhou.aliyuncs.com/20200301114123.png)"
   ],
   "metadata" : {
    "collapsed" : false
   }
  },
  {
   "cell_type" : "code",
   "execution_count" : 5,
   "outputs" : [
    {
     "data" : {
      "text/plain" : "array([[486. , 410.4, 691.6],\n       [314. , 341.6, 416.4],\n       [343.5, 353.4, 463.6],\n       [173. , 285.2, 190.8]])"
     },
     "metadata" : { },
     "output_type" : "execute_result",
     "execution_count" : 5
    }
   ],
   "source" : [
    "A = np.array([[1, 2104], [1, 1416], [1, 1534], [1, 852]])\n",
    "B = np.array([[-40, 200, -150], [0.25, 0.1, 0.4]])\n",
    "np.dot(A, B)"
   ],
   "metadata" : {
    "collapsed" : false,
    "pycharm" : {
     "name" : "#%%\n",
     "is_executing" : false
    }
   }
  },
  {
   "cell_type" : "markdown",
   "source" : [
    "## 矩阵乘法特征\n",
    "\n",
    "A是一个 $ m \\times n $ 的矩阵，B是一个 $ n \\times m $ 的矩阵，k是实数\n",
    "\n",
    "- $ A \\times k = k \\times A$\n",
    "- $ A \\times B \\neq B \\times A $\n",
    "- $ A \\times B \\times C = A \\times (B \\times C) = (A \\times B) \\times C $\n",
    "\n",
    "### 单位矩阵\n",
    "\n",
    "从左上角至右下角的对角线上的元素全为1，其余元素全为0，记作 $ I_{n \\times n} $\n",
    "\n",
    "$ \\begin{bmatrix} 1 & 0 & 0 \\\\ 0 & 1 & 0 \\\\ 0 & 0 & 1\\end{bmatrix} $\n",
    "\n",
    "- 对于任何矩阵$A$：$ A \\times I = I \\times A = A $"
   ],
   "metadata" : {
    "collapsed" : false
   }
  },
  {
   "cell_type" : "code",
   "source" : [
    "I = np.eye(3)\n",
    "I"
   ],
   "metadata" : {
    "collapsed" : false,
    "pycharm" : {
     "name" : "#%%\n",
     "is_executing" : false
    }
   },
   "execution_count" : 6,
   "outputs" : [
    {
     "data" : {
      "text/plain" : "array([[1., 0., 0.],\n       [0., 1., 0.],\n       [0., 0., 1.]])"
     },
     "metadata" : { },
     "output_type" : "execute_result",
     "execution_count" : 6
    }
   ]
  },
  {
   "cell_type" : "markdown",
   "source" : [
    "对于矩阵$A$,存在 $ AA^-1 = A^-1A = I $，则称矩阵 $A^-1$ 为矩阵 $A$ 的逆矩阵。\n",
    "\n",
    "对于矩阵$A$，交换 $A$ 的行和列，得到 $A$ 的转置矩阵 $A^T$，则称矩阵 $A^T$ 为矩阵 $A$ 的转置矩阵。\n",
    "\n",
    "例如：\n",
    "\n",
    "$ A = \\begin{bmatrix} 1&2&0\\\\3&5&9 \\end{bmatrix} $\n",
    "$ A^T = \\begin{bmatrix} 1&3\\\\2&5\\\\0&9 \\end{bmatrix} $\n",
    "\n"
   ],
   "metadata" : {
    "collapsed" : false,
    "pycharm" : {
     "name" : "#%% md\n"
    }
   }
  },
  {
   "cell_type" : "code",
   "execution_count" : 27,
   "outputs" : [
    {
     "name" : "stdout",
     "text" : [
      "[[ 0.4   -0.1  ]\n",
      " [-0.05   0.075]]\n",
      "[[1. 0.]\n",
      " [0. 1.]]\n"
     ],
     "output_type" : "stream"
    }
   ],
   "source" : [
    "import numpy as np\n",
    "from scipy import linalg\n",
    "\n",
    "A = np.array([[3, 4], [2, 16]])\n",
    "B = linalg.inv(A)\n",
    "print(B)\n",
    "print(np.dot(A, B))"
   ],
   "metadata" : {
    "collapsed" : false,
    "pycharm" : {
     "name" : "#%%\n",
     "is_executing" : false
    }
   }
  },
  {
   "cell_type" : "code",
   "execution_count" : 29,
   "outputs" : [
    {
     "data" : {
      "text/plain" : "array([[1, 3],\n       [2, 5],\n       [0, 9]])"
     },
     "metadata" : { },
     "output_type" : "execute_result",
     "execution_count" : 29
    }
   ],
   "source" : [
    "# 矩阵A\n",
    "A = np.array([[1, 2, 0], [3, 5, 9]])\n",
    "# 矩阵A的转置矩阵\n",
    "A.T\n"
   ],
   "metadata" : {
    "collapsed" : false,
    "pycharm" : {
     "name" : "#%%\n",
     "is_executing" : false
    }
   }
  }
 ],
 "metadata" : {
  "kernelspec" : {
   "display_name" : "Python 3",
   "language" : "python",
   "name" : "python3"
  },
  "language_info" : {
   "codemirror_mode" : {
    "name" : "ipython",
    "version" : 2
   },
   "file_extension" : ".py",
   "mimetype" : "text/x-python",
   "name" : "python",
   "nbconvert_exporter" : "python",
   "pygments_lexer" : "ipython2",
   "version" : "2.7.6"
  },
  "pycharm" : {
   "stem_cell" : {
    "cell_type" : "raw",
    "source" : [ ],
    "metadata" : {
     "collapsed" : false
    }
   }
  }
 },
 "nbformat" : 4,
 "nbformat_minor" : 0
}