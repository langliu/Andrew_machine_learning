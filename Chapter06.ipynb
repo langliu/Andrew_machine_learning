{
 "cells" : [
  {
   "cell_type" : "markdown",
   "metadata" : {
    "collapsed" : true,
    "pycharm" : {
     "name" : "#%% md\n"
    }
   },
   "source" : [
    "# Octave/Matlab教程"
   ]
  },
  {
   "cell_type" : "markdown",
   "source" : [
    "## 移动数据\n",
    "\n",
    "### 加载文件\n",
    "\n",
    "```shell\n",
    "file = load('filename.txt')\n",
    "```\n",
    "\n",
    "### 保存文件\n",
    "\n",
    "```bash\n",
    "save hello.txt file -ascii\n",
    "```\n",
    "\n",
    "如果A是一个5x4的矩阵，则：\n",
    "\n",
    "```\n",
    "A(2, :) % 取第二行的所有数据\n",
    "A(:, 2) % 取第二列的所有数据\n",
    "A([1 3], :) % 取第一行和第三行的数据\n",
    "A(2, :) = [23 54 2 6] % 更新第2行的数据\n",
    "A = [A, [1; 2; 3; 4; 5]] % 矩阵相新增一列\n",
    "A(:) % 把A中的所有元素放入一个单独的列向量（20，1）\n",
    "```\n",
    "\n",
    "![](http://andrew-machine-learning.oss-cn-hangzhou.aliyuncs.com/20200306203939.png)"
   ],
   "metadata" : {
    "collapsed" : false,
    "pycharm" : {
     "name" : "#%% md\n"
    }
   }
  },
  {
   "cell_type" : "markdown",
   "source" : [
    "## 计算数据\n",
    "\n",
    "```\n",
    "A = [1 2; 3 4; 5 6]\n",
    "B = [11 12; 13 14; 15 16]\n",
    "C = [1 1; 2 2]\n",
    "```\n",
    "\n",
    "```\n",
    "A*C % 矩阵A乘以矩阵C结果为（3，2）的矩阵\n",
    "A .* B % 将矩阵A的各个元素与矩阵B对应位置的元素相乘（3，2）\n",
    "A .^ 2 % 将矩阵A的各个元素求平方\n",
    "1 ./ A % 用1除矩阵A的各个元素\n",
    "log(A) % 对矩阵A的各个元素进行求对数运算\n",
    "exp(A) % 对矩阵A的各个元素进行以e为底，元素的值为指数的幂运算\n",
    "abs(A) % 对矩阵A的各个元素求绝对值\n",
    "-A % -1*A\n",
    "A' % 矩阵A的转置\n",
    "floor(A) % 对矩阵A的各个元素向下取整\n",
    "ceil(A) % 对矩阵A的各个元素向上取整\n",
    "sum(A) % 矩阵A各列中的各个元素相加的和（以列划分）\n",
    "rand(3) % 生成一个3x3的随机矩阵\n",
    "pinv(A) % 矩阵A的逆矩阵\n",
    "```"
   ],
   "metadata" : {
    "collapsed" : false
   }
  },
  {
   "cell_type" : "markdown",
   "source" : [
    "## 绘制图型\n",
    "\n",
    "```\n",
    "t = [0:0.01:0.98]\n",
    "y1 = sin(2*pi*4*t)\n",
    "plot(t, y1)\n",
    "```\n",
    "![](http://andrew-machine-learning.oss-cn-hangzhou.aliyuncs.com/2020-03-07_00-45-37.png)\n",
    "\n",
    "```\n",
    "y2 = cos(2*pi*4*t)\n",
    "plot(t, y2)\n",
    "```\n",
    "\n",
    "![](http://andrew-machine-learning.oss-cn-hangzhou.aliyuncs.com/2020-03-07_01-01-49.png)\n",
    "\n",
    "```\n",
    "hold on; % 保持本次输出图像不备重置\n",
    "plot(t, y1)\n",
    "xlabel('time')\n",
    "ylabel('value')\n",
    "```\n",
    "\n",
    "![](http://andrew-machine-learning.oss-cn-hangzhou.aliyuncs.com/Snipaste_2020-03-07_01-03-02.png)\n",
    "\n",
    "```\n",
    "legend('cos', 'sin')\n",
    "title('my plot')\n",
    "```\n",
    "\n",
    "![](http://andrew-machine-learning.oss-cn-hangzhou.aliyuncs.com/myplot.png)\n",
    "\n",
    "```\n",
    "print -dpng 'myPlot.png' % 输出图像为png格式的图片\n",
    "```"
   ],
   "metadata" : {
    "collapsed" : false
   }
  },
  {
   "cell_type" : "markdown",
   "source" : [
    "## 控制语句：for，while，if语句\n",
    "\n",
    "```\n",
    "V = zeros(10)\n",
    "\n",
    "for i=1:10,\n",
    "v(i) = 2^i;\n",
    "end;\n",
    "```\n",
    "\n",
    "```\n",
    "while i<=5,\n",
    "V(i) = 100;\n",
    "i = i+1;\n",
    "end;\n",
    "```\n",
    "\n",
    "```\n",
    "if V(1)==1,\n",
    "disp(1);\n",
    "elseif V(1)==2,\n",
    "disp(2);\n",
    "else,\n",
    "disp(3);\n",
    "end;\n",
    "```\n"
   ],
   "metadata" : {
    "collapsed" : false
   }
  }
 ],
 "metadata" : {
  "kernelspec" : {
   "display_name" : "Python 3",
   "language" : "python",
   "name" : "python3"
  },
  "language_info" : {
   "codemirror_mode" : {
    "name" : "ipython",
    "version" : 2
   },
   "file_extension" : ".py",
   "mimetype" : "text/x-python",
   "name" : "python",
   "nbconvert_exporter" : "python",
   "pygments_lexer" : "ipython2",
   "version" : "2.7.6"
  },
  "pycharm" : {
   "stem_cell" : {
    "cell_type" : "raw",
    "source" : [ ],
    "metadata" : {
     "collapsed" : false
    }
   }
  }
 },
 "nbformat" : 4,
 "nbformat_minor" : 0
}